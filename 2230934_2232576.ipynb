{
 "cells": [
  {
   "cell_type": "code",
   "execution_count": 8,
   "id": "38bf9c53",
   "metadata": {},
   "outputs": [],
   "source": [
    "import csv \n",
    "import numpy as np "
   ]
  },
  {
   "cell_type": "code",
   "execution_count": 9,
   "id": "819885b9",
   "metadata": {},
   "outputs": [],
   "source": [
    "try: #  to read the file and to avoid the case (file not found)\n",
    "    with open ('HeartFailureDataset 1.csv','r')as csvFile:\n",
    "        reader=list(csv.reader(csvFile,delimiter=\",\"))\n",
    "        header=list(reader[0])#to store the feature names\n",
    "        other=np.array(reader[1:]) #to store the data\n",
    "        other[other=='NA']=np.nan #to make the data cleaner \n",
    "except FileNotFoundError as error:\n",
    "    print(error)\n",
    "\n",
    "        \n",
    "def task_2(male,female):\n",
    "    '''Task 2 solution'''\n",
    "    try:\n",
    "        def gender():#This method return the “gender: with the lowest mean heart rate \n",
    "            if mean(male)<mean(female):\n",
    "                return 'male'\n",
    "            else:\n",
    "                 return 'female'\n",
    "        def mean(gender):#Calculate the median  \n",
    "            return np.nanmean(gender)\n",
    "        def std(gender):#Calculate the standard deviation\n",
    "            return np.nanstd(gender)\n",
    "        print(f'the mean for male is {mean(male):.4f}')\n",
    "        print(f'the mean for female is {mean(female):.4f}')\n",
    "        print(f'the std for male is {std(male):.4f}')\n",
    "        print(f'the std for female is {std(female):.4f}')\n",
    "        print(f'the lowest with mean  {min(mean(male),mean(female_hr)):.4f}is the {(gender())} ')\n",
    "    except Exception as er:\n",
    "        print('Task 2 has this error ', er)\n",
    "\n",
    "def task_3(all_file):\n",
    "    '''Task 3 solution'''\n",
    "    try:\n",
    "\n",
    "        def print_statistics(data):#better design \n",
    "            for i in range(1,50):\n",
    "                print(f'{data[i-1]:.4f} {header[i]}')\n",
    "                \n",
    "        global the_median#We will use this in another method(task 6)\n",
    "        the_median=np.nanmedian(all_file[0:,1:].astype(float),axis=0)\n",
    "        the_q1=np.nanpercentile (all_file[0:,1:].astype(float),25,axis=0)\n",
    "        the_q3=np.nanpercentile (all_file[0:,1:].astype(float),75,axis=0)\n",
    "        iqr=the_q3-the_q1\n",
    "        print(f'the median of all features is ')\n",
    "        print(f'{print_statistics(the_median)}')\n",
    "        print('********************************')\n",
    "        print(f'the interquartile  of all features is')\n",
    "        print(f'{print_statistics(iqr)}')\n",
    "        print(f'the features of min iqr is {header[np.argmin(iqr)+1]}')\n",
    "        print(f'the features of max iqr is {header[np.argmax(iqr)+1]}')\n",
    "    except Exception as er:\n",
    "        print('Task 3 has this error ', er)\n",
    "\n",
    "def task_4(all_data):\n",
    "    '''Task 4 solution'''\n",
    "    try:\n",
    "        def count(top_10):#to make it better design :)\n",
    "            for i in range(0,10):\n",
    "                print(f'{i+1}){top_10[i]}')\n",
    "        global top_id #We will use this in another method(task 5)\n",
    "        top_id=all_data[:,0]#store the id column \n",
    "        Systolic_blood_pressure=all_data[:,header.index('Systolic blood pressure')].astype(float)#store the Systolic blood pressure column\n",
    "        Diastolic_blood_pressure=all_data[:,header.index('Diastolic blood pressure')].astype(float)# store the Diastolic blood pressure column\n",
    "        total_blood_pressure = np.nansum([Systolic_blood_pressure, Diastolic_blood_pressure],axis=0)#the total blood pressure\n",
    "        top_10_bp=np.argsort(total_blood_pressure)[::-1]#sort the total blood pressure (descending )\n",
    "        top_10=top_id[top_10_bp[:10]]#fancy indexing to find the patient id \n",
    "        print(f' top 10 id  with the highest blood pressure values ')\n",
    "        count(top_10)\n",
    "    except Exception as er:\n",
    "        print('Task 4 has this error ', er)\n",
    "def task_5(all_data):\n",
    "    '''Task 5 solution'''\n",
    "    try:\n",
    "        def count(top_10):#to make it better design :)\n",
    "            for i in range(0,10):\n",
    "                print(f'{i+1}){top_10[i]}')\n",
    "        glucose=all_data[:,header.index('glucose')].astype(float)#store the glucose column\n",
    "        remove_nan_from_glucose= glucose[np.logical_not(np.isnan(glucose))]#remove the np.nan \n",
    "        the_sorting=np.sort(remove_nan_from_glucose)[::-1]#sort the glucose (descending )\n",
    "        top_10_glucous=np.argsort(remove_nan_from_glucose)[::-1]\n",
    "        print(f'the patients in descending order based on their “glucose” is{the_sorting}')\n",
    "        top_10=top_id[top_10_glucous[:10]]#fancy indexing to find the patient id \n",
    "        print(f'and the top 10 id bassed on glucose is ')\n",
    "        count(top_10)\n",
    "    except Exception as er:\n",
    "        print('Task 5 has this error ', er)\n",
    "    \n",
    "def task_6(all_data):\n",
    "    '''Task 6 solution'''\n",
    "    try:\n",
    "        Creatinine=all_data[:,header.index('Creatinine')].astype(float)#to store Creatinine column\n",
    "        five_top_Creatinine=np.argsort(Creatinine)[-5:]#to sort id and store the top 5 only\n",
    "        print('before ',all_data[[five_top_Creatinine],header.index('Creatinine')])#print the top 5 before \n",
    "        all_data[[five_top_Creatinine],header.index('Creatinine')]=the_median[header.index('Creatinine')-1]\n",
    "        print('after ',all_data[[five_top_Creatinine],header.index('Creatinine')])#print the top 5 after\n",
    "    except Exception as er:\n",
    "        print('Task 6 has this error ', er)\n",
    "def task_7(all_data):\n",
    "    '''Task 7 solution'''\n",
    "    try:\n",
    "        def mean(data):#if the column all of it was nan it will return warning so :)\n",
    "            for i in range(1,50):\n",
    "                if np.all(np.isnan(data[:,i-1])):\n",
    "                    print(np.nan,header[i])\n",
    "                else:\n",
    "                    print(f'{np.nanmean(data[:,i-1]):.4f} {header[i]}')\n",
    "        top_100=np.argpartition(all_data[:,1:],-100,axis=0)[-100:]#to find the top 100 of each column\n",
    "        top100_values=np.take_along_axis(all_data[:,1:],top_100,axis=0)\n",
    "        mean_top_100=mean(top100_values.astype(float))# to calculate the mean for top 100 only (without the id column)\n",
    "    except Exception as er:\n",
    "        print('Task 7 has this error ', er)\n",
    "\n",
    "def task_8(all_data):\n",
    "    '''Task 8 solution'''\n",
    "    try:\n",
    "        Respiratory_rate=all_data[:,header.index('Respiratory rate')].astype(float)#to store the Respiratory rate column\n",
    "        mean_Respiratory_rate=np.nanmean(Respiratory_rate)#the mean for Respiratory rate column\n",
    "        std_Respiratory_rate=np.nanstd(Respiratory_rate)#the std for Respiratory rate column\n",
    "        upper_limit=mean_Respiratory_rate+2*std_Respiratory_rate\n",
    "        lower_limit=mean_Respiratory_rate-2*std_Respiratory_rate\n",
    "        result=np.where((Respiratory_rate>upper_limit) | (Respiratory_rate< lower_limit))#the range between\n",
    "        print('the patient IDs with 2 standard deviation away from the mean of “Respiratory rate” feature. ')\n",
    "        print(all_data[result,0])\n",
    "    except Exception as er:\n",
    "        print('Task 8 has this error ', er)\n",
    "def task_9(all_data):\n",
    "    '''Task 9 solution'''\n",
    "    try:\n",
    "        other_withot_id=all_data[:,1:].astype(float)#remove id column\n",
    "        dist = np.nansum((other_withot_id[:, np.newaxis, :] - other_withot_id[np.newaxis, :, :]) ** 2, axis=-1)#compute the distance between each pair of points. Recall that the squared-distance between two points is the sum of the squared differences in each dimension\n",
    "        K = 3\n",
    "        nearest_partition = np.argpartition(dist, K + 1, axis=1)\n",
    "        print('k-nearestneighbors, where k = 3, for each patient are')\n",
    "        print(nearest_partition)\n",
    "    except Exception as er:\n",
    "        print('Task 2 has this error ', er)\n",
    "    \n",
    "def task_10(all_data):\n",
    "    '''Task 10 solution'''\n",
    "    try:\n",
    "        patients_data = all_data[:,1:].astype(float)#to store the data without id column\n",
    "        correlation_matrix = np.corrcoef(patients_data, rowvar=True)#to find correlation of each two patients\n",
    "        np.fill_diagonal(correlation_matrix, -1)#the diagonal should be zeroes\n",
    "        max_matrix_index = np.unravel_index(np.nanargmax(correlation_matrix), correlation_matrix.shape)#max two correlation indexes\n",
    "        max_matrix_value = correlation_matrix[max_matrix_index]#max correlation value\n",
    "        patient_pair = (max_matrix_index[0], max_matrix_index[1])#to find the pair of it\n",
    "        print(f'the pair of patients with the highest correlation coefficient ({max_matrix_value:.4f}): {patient_pair}')\n",
    "    except Exception as er:\n",
    "        print('Task 2 has this error ', er)\n",
    "\n",
    "\n",
    "    \n",
    "\n"
   ]
  },
  {
   "cell_type": "code",
   "execution_count": 10,
   "id": "aee26283",
   "metadata": {},
   "outputs": [
    {
     "name": "stdout",
     "output_type": "stream",
     "text": [
      "the mean for male is 84.8073\n",
      "the mean for female is 84.3678\n",
      "the std for male is 16.0721\n",
      "the std for female is 15.9546\n",
      "the lowest with mean  84.3678is the female \n"
     ]
    }
   ],
   "source": [
    "male_hr=other[:,header.index('heart rate')][other[:,header.index('gendera')].astype(int)==1].astype(float)\n",
    "female_hr=other[:,header.index('heart rate')][other[:,header.index('gendera')].astype(int)==2].astype(float)\n",
    "task_2(male_hr,female_hr)"
   ]
  },
  {
   "cell_type": "code",
   "execution_count": 11,
   "id": "395629a2",
   "metadata": {},
   "outputs": [
    {
     "name": "stdout",
     "output_type": "stream",
     "text": [
      "the median of all features is \n",
      "0.0000 outcome\n",
      "77.0000 age\n",
      "2.0000 gendera\n",
      "28.3125 BMI\n",
      "1.0000 hypertensive\n",
      "0.0000 atrialfibrillation\n",
      "0.0000 CHD with no MI\n",
      "0.0000 diabetes\n",
      "0.0000 deficiencyanemias\n",
      "0.0000 depression\n",
      "0.0000 Hyperlipemia\n",
      "0.0000 Renal failure\n",
      "0.0000 COPD\n",
      "83.6108 heart rate\n",
      "116.1282 Systolic blood pressure\n",
      "58.4615 Diastolic blood pressure\n",
      "20.3723 Respiratory rate\n",
      "36.6508 temperature\n",
      "96.4523 SP O2\n",
      "1675.0000 Urine output\n",
      "30.8000 hematocrit\n",
      "3.4900 RBC\n",
      "29.7500 MCH\n",
      "32.9857 MCHC\n",
      "90.0000 MCV\n",
      "15.5062 RDW\n",
      "9.6800 Leucocyte\n",
      "222.6667 Platelets\n",
      "82.4667 Neutrophils\n",
      "0.3000 Basophils\n",
      "10.4750 Lymphocyte\n",
      "14.6333 PT\n",
      "1.3000 INR\n",
      "5840.0000 NT-proBNP\n",
      "89.2500 Creatine kinase\n",
      "1.2875 Creatinine\n",
      "30.6667 Urea nitrogen\n",
      "136.4000 glucose\n",
      "4.1154 Blood potassium\n",
      "139.2500 Blood sodium\n",
      "8.5000 Blood calcium\n",
      "102.5000 Chloride\n",
      "13.6667 Anion gap\n",
      "2.0923 Magnesium ion\n",
      "7.3800 PH\n",
      "26.5000 Bicarbonate\n",
      "1.6000 Lactic acid\n",
      "43.0000 PCO2\n",
      "55.0000 EF\n",
      "None\n",
      "********************************\n",
      "the interquartile  of all features is\n",
      "0.0000 outcome\n",
      "20.0000 age\n",
      "1.0000 gendera\n",
      "9.3070 BMI\n",
      "1.0000 hypertensive\n",
      "1.0000 atrialfibrillation\n",
      "0.0000 CHD with no MI\n",
      "1.0000 diabetes\n",
      "1.0000 deficiencyanemias\n",
      "0.0000 depression\n",
      "1.0000 Hyperlipemia\n",
      "1.0000 Renal failure\n",
      "0.0000 COPD\n",
      "23.5359 heart rate\n",
      "23.2337 Systolic blood pressure\n",
      "13.2904 Diastolic blood pressure\n",
      "5.4655 Respiratory rate\n",
      "0.7359 temperature\n",
      "2.9175 SP O2\n",
      "1520.0000 Urine output\n",
      "6.8525 hematocrit\n",
      "0.7800 RBC\n",
      "2.9900 MCH\n",
      "1.8139 MCHC\n",
      "7.6071 MCV\n",
      "2.4775 RDW\n",
      "5.3000 Leucocyte\n",
      "135.3409 Platelets\n",
      "12.6750 Neutrophils\n",
      "0.3000 Basophils\n",
      "8.8125 Lymphocyte\n",
      "5.6400 PT\n",
      "0.5964 INR\n",
      "12717.0000 NT-proBNP\n",
      "139.1875 Creatine kinase\n",
      "0.9600 Creatinine\n",
      "24.4167 Urea nitrogen\n",
      "55.5625 glucose\n",
      "0.5000 Blood potassium\n",
      "4.9333 Blood sodium\n",
      "0.7202 Blood calcium\n",
      "6.5714 Chloride\n",
      "3.1667 Anion gap\n",
      "0.2861 Magnesium ion\n",
      "0.0954 PH\n",
      "6.4205 Bicarbonate\n",
      "1.0000 Lactic acid\n",
      "13.5473 PCO2\n",
      "15.0000 EF\n",
      "None\n",
      "the features of min iqr is outcome\n",
      "the features of max iqr is NT-proBNP\n"
     ]
    }
   ],
   "source": [
    "task_3(other)\n"
   ]
  },
  {
   "cell_type": "code",
   "execution_count": 12,
   "id": "6c8d409d",
   "metadata": {},
   "outputs": [
    {
     "name": "stdout",
     "output_type": "stream",
     "text": [
      " top 10 id  with the highest blood pressure values \n",
      "1)178001\n",
      "2)163199\n",
      "3)190823\n",
      "4)196856\n",
      "5)118932\n",
      "6)169263\n",
      "7)189112\n",
      "8)196981\n",
      "9)184453\n",
      "10)114085\n"
     ]
    }
   ],
   "source": [
    "task_4(other)"
   ]
  },
  {
   "cell_type": "code",
   "execution_count": 13,
   "id": "ebc8b317",
   "metadata": {},
   "outputs": [
    {
     "name": "stdout",
     "output_type": "stream",
     "text": [
      "the patients in descending order based on their “glucose” is[414.1        369.         365.75       ...  70.22222222  69.1\n",
      "  66.66666667]\n",
      "and the top 10 id bassed on glucose is \n",
      "1)126474\n",
      "2)168835\n",
      "3)109401\n",
      "4)143304\n",
      "5)138444\n",
      "6)149947\n",
      "7)190669\n",
      "8)145935\n",
      "9)165271\n",
      "10)192823\n"
     ]
    }
   ],
   "source": [
    "task_5(other)"
   ]
  },
  {
   "cell_type": "code",
   "execution_count": 14,
   "id": "f7ef8288",
   "metadata": {},
   "outputs": [
    {
     "name": "stdout",
     "output_type": "stream",
     "text": [
      "before  [['9.0125' '9.2' '12.45' '12.8375' '15.52727273']]\n",
      "after  [['1.2875' '1.2875' '1.2875' '1.2875' '1.2875']]\n"
     ]
    }
   ],
   "source": [
    "task_6(other)"
   ]
  },
  {
   "cell_type": "code",
   "execution_count": 15,
   "id": "8237f23c",
   "metadata": {},
   "outputs": [
    {
     "name": "stdout",
     "output_type": "stream",
     "text": [
      "1.0000 outcome\n",
      "90.3700 age\n",
      "2.0000 gendera\n",
      "nan BMI\n",
      "1.0000 hypertensive\n",
      "1.0000 atrialfibrillation\n",
      "1.0000 CHD with no MI\n",
      "1.0000 diabetes\n",
      "1.0000 deficiencyanemias\n",
      "1.0000 depression\n",
      "1.0000 Hyperlipemia\n",
      "1.0000 Renal failure\n",
      "0.8900 COPD\n",
      "97.8705 heart rate\n",
      "98.2882 Systolic blood pressure\n",
      "82.5394 Diastolic blood pressure\n",
      "29.2353 Respiratory rate\n",
      "37.9539 temperature\n",
      "99.5424 SP O2\n",
      "911.7500 Urine output\n",
      "43.4354 hematocrit\n",
      "4.9558 RBC\n",
      "33.8099 MCH\n",
      "35.1965 MCHC\n",
      "97.9929 MCV\n",
      "20.8041 RDW\n",
      "9.5737 Leucocyte\n",
      "311.2113 Platelets\n",
      "nan Neutrophils\n",
      "nan Basophils\n",
      "nan Lymphocyte\n",
      "38.1894 PT\n",
      "3.9873 INR\n",
      "6365.3000 NT-proBNP\n",
      "nan Creatine kinase\n",
      "4.3980 Creatinine\n",
      "69.0474 Urea nitrogen\n",
      "95.3088 glucose\n",
      "5.0796 Blood potassium\n",
      "145.5885 Blood sodium\n",
      "9.4395 Blood calcium\n",
      "99.3821 Chloride\n",
      "15.2180 Anion gap\n",
      "2.6676 Magnesium ion\n",
      "nan PH\n",
      "37.6947 Bicarbonate\n",
      "nan Lactic acid\n",
      "nan PCO2\n",
      "70.1200 EF\n"
     ]
    }
   ],
   "source": [
    "task_7(other)"
   ]
  },
  {
   "cell_type": "code",
   "execution_count": 16,
   "id": "b117b475",
   "metadata": {},
   "outputs": [
    {
     "name": "stdout",
     "output_type": "stream",
     "text": [
      "the patient IDs with 2 standard deviation away from the mean of “Respiratory rate” feature. \n",
      "[['127360' '191289' '116888' '113812' '138440' '190054' '153366' '116367'\n",
      "  '133975' '152960' '145790' '108084' '107777' '126474' '107462' '141222'\n",
      "  '130354' '128899' '180135' '173649' '151364' '154468' '155273' '109577'\n",
      "  '153207' '166585' '155044' '110347' '120626' '128969' '133499' '192198'\n",
      "  '110335' '175630' '166387' '149010' '196357' '161407' '184331' '145202'\n",
      "  '102433' '111327' '123701' '145333' '150871' '111573' '126717' '161037'\n",
      "  '180744' '145248' '113009' '182813' '146160' '159785']]\n"
     ]
    }
   ],
   "source": [
    "task_8(other)"
   ]
  },
  {
   "cell_type": "code",
   "execution_count": 17,
   "id": "66a75646",
   "metadata": {},
   "outputs": [
    {
     "name": "stdout",
     "output_type": "stream",
     "text": [
      "k-nearestneighbors, where k = 3, for each patient are\n",
      "[[ 875    0  835 ... 1174 1175 1176]\n",
      " [   1  959   27 ... 1174 1175 1176]\n",
      " [   2  735 1013 ... 1174 1175 1176]\n",
      " ...\n",
      " [1174  817  816 ...    7    3  588]\n",
      " [ 822 1176  919 ...    7    3  588]\n",
      " [ 558 1176  643 ...    7    3  588]]\n"
     ]
    }
   ],
   "source": [
    "task_9(other)"
   ]
  },
  {
   "cell_type": "code",
   "execution_count": 18,
   "id": "139b68bf",
   "metadata": {},
   "outputs": [
    {
     "name": "stdout",
     "output_type": "stream",
     "text": [
      "the pair of patients with the highest correlation coefficient (1.0000): (17, 846)\n"
     ]
    }
   ],
   "source": [
    "task_10(other)"
   ]
  },
  {
   "cell_type": "code",
   "execution_count": null,
   "id": "81a7301f",
   "metadata": {},
   "outputs": [],
   "source": []
  },
  {
   "cell_type": "code",
   "execution_count": null,
   "id": "3c8f47f0",
   "metadata": {},
   "outputs": [],
   "source": []
  },
  {
   "cell_type": "code",
   "execution_count": null,
   "id": "dd18c583",
   "metadata": {},
   "outputs": [],
   "source": []
  }
 ],
 "metadata": {
  "kernelspec": {
   "display_name": "Python 3 (ipykernel)",
   "language": "python",
   "name": "python3"
  },
  "language_info": {
   "codemirror_mode": {
    "name": "ipython",
    "version": 3
   },
   "file_extension": ".py",
   "mimetype": "text/x-python",
   "name": "python",
   "nbconvert_exporter": "python",
   "pygments_lexer": "ipython3",
   "version": "3.9.13"
  }
 },
 "nbformat": 4,
 "nbformat_minor": 5
}
